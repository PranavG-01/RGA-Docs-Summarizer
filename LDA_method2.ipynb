{
 "cells": [
  {
   "cell_type": "code",
   "execution_count": 1,
   "metadata": {},
   "outputs": [],
   "source": [
    "import numpy as np\n",
    "import json\n",
    "import glob\n",
    "import pandas as pd\n",
    "\n",
    "#Gensim\n",
    "import gensim\n",
    "import gensim.corpora as corpora\n",
    "from gensim.utils import simple_preprocess\n",
    "from gensim.models import CoherenceModel\n",
    "\n",
    "#spacy\n",
    "import spacy\n",
    "from nltk.corpus import stopwords\n",
    "\n",
    "#vis\n",
    "import pyLDAvis\n",
    "import pyLDAvis.gensim\n",
    "\n",
    "import warnings\n",
    "warnings.filterwarnings(\"ignore\", category=DeprecationWarning)"
   ]
  },
  {
   "cell_type": "code",
   "execution_count": 37,
   "metadata": {},
   "outputs": [
    {
     "name": "stdout",
     "output_type": "stream",
     "text": [
      "There was an error parsing 'Restaurant_Reviews.tsv'.\n"
     ]
    }
   ],
   "source": [
    "data = pd.read_csv('output.csv',encoding='latin1')\n",
    "#data = pd.read_excel('Pranav_RGA_Reports.xlsx',usecols=['Description'])\n",
    "print(data)"
   ]
  },
  {
   "cell_type": "code",
   "execution_count": 24,
   "metadata": {},
   "outputs": [
    {
     "name": "stdout",
     "output_type": "stream",
     "text": [
      "['i', 'me', 'my', 'myself', 'we', 'our', 'ours', 'ourselves', 'you', \"you're\", \"you've\", \"you'll\", \"you'd\", 'your', 'yours', 'yourself', 'yourselves', 'he', 'him', 'his', 'himself', 'she', \"she's\", 'her', 'hers', 'herself', 'it', \"it's\", 'its', 'itself', 'they', 'them', 'their', 'theirs', 'themselves', 'what', 'which', 'who', 'whom', 'this', 'that', \"that'll\", 'these', 'those', 'am', 'is', 'are', 'was', 'were', 'be', 'been', 'being', 'have', 'has', 'had', 'having', 'do', 'does', 'did', 'doing', 'a', 'an', 'the', 'and', 'but', 'if', 'or', 'because', 'as', 'until', 'while', 'of', 'at', 'by', 'for', 'with', 'about', 'against', 'between', 'into', 'through', 'during', 'before', 'after', 'above', 'below', 'to', 'from', 'up', 'down', 'in', 'out', 'on', 'off', 'over', 'under', 'again', 'further', 'then', 'once', 'here', 'there', 'when', 'where', 'why', 'how', 'all', 'any', 'both', 'each', 'few', 'more', 'most', 'other', 'some', 'such', 'no', 'nor', 'not', 'only', 'own', 'same', 'so', 'than', 'too', 'very', 's', 't', 'can', 'will', 'just', 'don', \"don't\", 'should', \"should've\", 'now', 'd', 'll', 'm', 'o', 're', 've', 'y', 'ain', 'aren', \"aren't\", 'couldn', \"couldn't\", 'didn', \"didn't\", 'doesn', \"doesn't\", 'hadn', \"hadn't\", 'hasn', \"hasn't\", 'haven', \"haven't\", 'isn', \"isn't\", 'ma', 'mightn', \"mightn't\", 'mustn', \"mustn't\", 'needn', \"needn't\", 'shan', \"shan't\", 'shouldn', \"shouldn't\", 'wasn', \"wasn't\", 'weren', \"weren't\", 'won', \"won't\", 'wouldn', \"wouldn't\", 'application', 'inspection', 'review', 'customer']\n"
     ]
    }
   ],
   "source": [
    "from nltk.corpus import stopwords\n",
    "\n",
    "stopwords = stopwords.words(\"english\")\n",
    "# stopwords.append('application')\n",
    "# stopwords.append('inspection')\n",
    "# stopwords.append('review')\n",
    "# stopwords.append('customer')\n",
    "\n",
    "print (stopwords)"
   ]
  },
  {
   "cell_type": "code",
   "execution_count": 29,
   "metadata": {},
   "outputs": [],
   "source": [
    "def lemmatization(texts, allowed_postags=[\"NOUN\", \"ADJ\", \"VERB\", \"ADV\"]):\n",
    "    nlp = spacy.load(\"en_core_web_sm\", disable=[\"parser\", \"ner\"])\n",
    "    texts_out = []\n",
    "    for text in texts:\n",
    "        doc = nlp(text)\n",
    "        new_text = []\n",
    "        for token in doc:\n",
    "            if token.pos_ in allowed_postags and token.text.lower() not in stopwords:\n",
    "                new_text.append(token.lemma_)\n",
    "        final = \" \".join(new_text)\n",
    "        texts_out.append(final)\n",
    "    return (texts_out)\n",
    "\n",
    "lemmatized_texts = lemmatization(data['review'].tolist())"
   ]
  },
  {
   "cell_type": "code",
   "execution_count": 30,
   "metadata": {},
   "outputs": [
    {
     "name": "stdout",
     "output_type": "stream",
     "text": [
      "['look', 'spit', 'food', 'normal', 'transaction', 'chill', 'polite', 'want', 'eat', 'try', 'think', 'milky', 'white', 'clear', 'substance', 'food', 'sure', 'come', 'back']\n"
     ]
    }
   ],
   "source": [
    "def gen_words(texts):\n",
    "    final = []\n",
    "    for text in texts:\n",
    "        new = gensim.utils.simple_preprocess(text, deacc=True)\n",
    "        final.append(new)\n",
    "    return (final)\n",
    "\n",
    "data_words = gen_words(lemmatized_texts)\n",
    "\n",
    "print (data_words[0][0:20])"
   ]
  },
  {
   "cell_type": "code",
   "execution_count": 31,
   "metadata": {},
   "outputs": [
    {
     "name": "stdout",
     "output_type": "stream",
     "text": [
      "['look', 'spit', 'food', 'normal', 'transaction', 'chill', 'polite', 'want', 'eat', 'try', 'think', 'milky', 'white', 'clear', 'substance', 'food', 'sure', 'come', 'back']\n"
     ]
    }
   ],
   "source": [
    "#BIGRAMS AND TRIGRAMS\n",
    "bigram_phrases = gensim.models.Phrases(data_words, min_count=5, threshold=100)\n",
    "trigram_phrases = gensim.models.Phrases(bigram_phrases[data_words], threshold=100)\n",
    "\n",
    "bigram = gensim.models.phrases.Phraser(bigram_phrases)\n",
    "trigram = gensim.models.phrases.Phraser(trigram_phrases)\n",
    "\n",
    "def make_bigrams(texts):\n",
    "    return([bigram[doc] for doc in texts])\n",
    "\n",
    "def make_trigrams(texts):\n",
    "    return ([trigram[bigram[doc]] for doc in texts])\n",
    "\n",
    "data_bigrams = make_bigrams(data_words)\n",
    "data_bigrams_trigrams = make_trigrams(data_bigrams)\n",
    "\n",
    "print (data_bigrams_trigrams[0][0:20])"
   ]
  },
  {
   "cell_type": "code",
   "execution_count": 32,
   "metadata": {},
   "outputs": [],
   "source": [
    "#TF-IDF REMOVAL\n",
    "from gensim.models import TfidfModel\n",
    "\n",
    "id2word = corpora.Dictionary(data_bigrams_trigrams)\n",
    "\n",
    "texts = data_bigrams_trigrams\n",
    "\n",
    "corpus = [id2word.doc2bow(text) for text in texts]\n",
    "# print (corpus[0][0:20])\n",
    "\n",
    "tfidf = TfidfModel(corpus, id2word=id2word)\n",
    "\n",
    "low_value = 0.03\n",
    "words  = []\n",
    "words_missing_in_tfidf = []\n",
    "for i in range(0, len(corpus)):\n",
    "    bow = corpus[i]\n",
    "    low_value_words = [] #reinitialize to be safe. You can skip this.\n",
    "    tfidf_ids = [id for id, value in tfidf[bow]]\n",
    "    bow_ids = [id for id, value in bow]\n",
    "    low_value_words = [id for id, value in tfidf[bow] if value < low_value]\n",
    "    drops = low_value_words+words_missing_in_tfidf\n",
    "    for item in drops:\n",
    "        words.append(id2word[item])\n",
    "    words_missing_in_tfidf = [id for id in bow_ids if id not in tfidf_ids] # The words with tf-idf socre 0 will be missing\n",
    "\n",
    "    new_bow = [b for b in bow if b[0] not in low_value_words and b[0] not in words_missing_in_tfidf]\n",
    "    corpus[i] = new_bow"
   ]
  },
  {
   "cell_type": "code",
   "execution_count": 33,
   "metadata": {},
   "outputs": [],
   "source": [
    "# id2word = corpora.Dictionary(data_words)\n",
    "\n",
    "# corpus = []\n",
    "# for text in data_words:\n",
    "#     new = id2word.doc2bow(text)\n",
    "#     corpus.append(new)\n",
    "\n",
    "# print (corpus[0][0:20])\n",
    "\n",
    "# word = id2word[[0][:1][0]]\n",
    "# print (word)"
   ]
  },
  {
   "cell_type": "code",
   "execution_count": 34,
   "metadata": {},
   "outputs": [],
   "source": [
    "lda_model = gensim.models.ldamodel.LdaModel(corpus=corpus,\n",
    "                                           id2word=id2word,\n",
    "                                           num_topics=4,\n",
    "                                           random_state=100,\n",
    "                                           update_every=1,\n",
    "                                           chunksize=100,\n",
    "                                           passes=10,\n",
    "                                           alpha=\"auto\")"
   ]
  },
  {
   "cell_type": "code",
   "execution_count": 35,
   "metadata": {},
   "outputs": [
    {
     "data": {
      "text/html": [
       "\n",
       "<link rel=\"stylesheet\" type=\"text/css\" href=\"https://cdn.jsdelivr.net/gh/bmabey/pyLDAvis@3.4.0/pyLDAvis/js/ldavis.v1.0.0.css\">\n",
       "\n",
       "\n",
       "<div id=\"ldavis_el1789623202478594083335888846\" style=\"background-color:white;\"></div>\n",
       "<script type=\"text/javascript\">\n",
       "\n",
       "var ldavis_el1789623202478594083335888846_data = {\"mdsDat\": {\"x\": [0.25107449584360825, 0.2877189232319031, -0.21754684617280742, -0.321246572902704], \"y\": [-0.2929106685208504, 0.2166471495542371, 0.3187669433823892, -0.24250342441577602], \"topics\": [1, 2, 3, 4], \"cluster\": [1, 1, 1, 1], \"Freq\": [51.33591959169601, 17.682117697211915, 16.42174490488139, 14.560217806210687]}, \"tinfo\": {\"Term\": [\"\\u00bdi\", \"service\", \"food\", \"good\", \"place\", \"order\", \"fast\", \"great\", \"staff\", \"slow\", \"clean\", \"always\", \"fry\", \"nice\", \"get\", \"go\", \"friendly\", \"excellent\", \"love\", \"bad\", \"drive\", \"wait\", \"fresh\", \"well\", \"time\", \"cold\", \"hot\", \"take\", \"dirty\", \"like\", \"order\", \"get\", \"go\", \"drive\", \"wait\", \"bad\", \"time\", \"take\", \"minute\", \"give\", \"ask\", \"say\", \"make\", \"thru\", \"employee\", \"work\", \"manager\", \"come\", \"people\", \"long\", \"never\", \"line\", \"tell\", \"rude\", \"ever\", \"even\", \"back\", \"need\", \"wrong\", \"hour\", \"terrible\", \"great\", \"fry\", \"love\", \"fresh\", \"cold\", \"hot\", \"dirty\", \"like\", \"visit\", \"area\", \"sandwich\", \"lot\", \"much\", \"big\", \"chicken\", \"nugget\", \"pretty\", \"taste\", \"play\", \"little\", \"mcdonald\", \"thank\", \"old\", \"hard\", \"large\", \"price\", \"cheese\", \"parking\", \"small\", \"recommend\", \"late\", \"well\", \"location\", \"really\", \"meal\", \"service\", \"food\", \"good\", \"fast\", \"slow\", \"clean\", \"always\", \"nice\", \"friendly\", \"excellent\", \"quick\", \"table\", \"super\", \"bathroom\", \"neutral\", \"kind\", \"ice_cream\", \"quality\", \"enjoy\", \"far\", \"cool\", \"enough\", \"suppose\", \"amazing\", \"helpful\", \"fine\", \"overall\", \"cheap\", \"polite\", \"spot\", \"staff\", \"prepare\", \"place\", \"zoo\", \"restaurant\", \"really\", \"eat\", \"\\u00bdi\", \"\\u00bdt\", \"mcdonaldi\", \"\\u00bds\", \"ii\", \"iti\", \"didni\", \"doni\", \"\\u00bdve\", \"cani\", \"\\u00bdm\", \"wouldni\", \"wasni\", \"therei\", \"thati\", \"wereni\", \"youi\", \"isni\", \"doesni\", \"\\u00bdre\", \"couldni\", \"woni\", \"theyi\", \"haveni\", \"wendyi\", \"\\u00bdll\", \"wei\", \"soo\", \"\\u00bdwei\", \"actu\", \"deteriorate\", \"hav\", \"re\", \"doi\", \"th\"], \"Freq\": [48539.0, 7269.0, 6717.0, 5228.0, 3714.0, 8548.0, 2870.0, 2714.0, 2580.0, 2247.0, 2169.0, 1933.0, 1783.0, 1636.0, 4418.0, 4116.0, 1502.0, 1460.0, 1476.0, 3825.0, 3741.0, 3645.0, 1332.0, 1439.0, 2992.0, 1075.0, 997.0, 2607.0, 936.0, 881.0, 8547.735044830331, 4417.223813197849, 4115.885659133542, 3741.0957696046344, 3644.6540745635593, 3824.8644552122514, 2991.5835985809576, 2606.9076928772865, 2269.6413382845058, 2215.642245490925, 2083.2979943481187, 1930.669539647572, 1942.3854560354312, 1863.0439310080453, 1889.3757359854453, 1771.1409408369452, 1720.8823477145456, 1722.8248682073176, 1685.4736709921624, 1607.138017220681, 1565.3686260080713, 1531.3320157821981, 1505.6583579806172, 1545.4219246260504, 1510.2686161811512, 1460.567116846676, 1363.1177572331412, 1272.0979754655586, 1208.2643346823525, 1186.0725803046694, 1188.0337512896172, 2713.93535161699, 1782.7801330642662, 1475.626479786572, 1331.5106107205615, 1074.3670379537537, 996.2180101224858, 935.9574419200297, 880.8242485905138, 776.1596219798145, 679.7283577628169, 677.5875711210509, 672.2801398957321, 644.1743624762861, 636.0801036522437, 605.3219695360053, 579.2310937339176, 584.7358148355653, 558.8642186392908, 559.1756574484484, 556.6573392712656, 558.3496219080151, 557.6775762428754, 534.6978765494054, 476.21986623550043, 464.2515544657717, 460.20056449731015, 449.56967301633193, 441.0171198161403, 391.2543311085985, 404.53347165431654, 397.1893035044125, 1186.9155385047209, 774.0260005308018, 516.079864406718, 481.5124111551853, 7268.746075508095, 6716.66626761377, 5227.900818320997, 2869.545283945161, 2247.0479667709355, 2168.912888653872, 1932.6506006768043, 1635.2615786895976, 1501.510004699678, 1459.8963310763688, 836.5516026775829, 736.3462579621253, 579.4850593609093, 390.288858170539, 341.39440078072795, 354.707797895103, 288.7981985219722, 294.6791073624427, 262.3191505434832, 279.3085925384057, 259.20299826730275, 251.38483806930395, 259.71708408431454, 218.10919009009257, 190.4471538622074, 190.37170317082482, 183.09780332978636, 178.1474147723371, 161.48758373351518, 160.95974440708767, 2560.312009269587, 175.24870849173587, 3322.894226592271, 426.1888736591186, 555.989017066927, 582.7004835788783, 564.9225739711768, 48539.141590281506, 332.7584752443863, 258.5971657175541, 243.5233800162484, 221.22859994078345, 168.4542390749019, 142.4960895398757, 126.5444308353031, 118.74939464562942, 56.637101263451164, 54.686104236245164, 36.174352423160066, 34.98308595486639, 30.815862685089044, 30.632736174232, 27.129871827561296, 25.045044244847695, 23.965781671235582, 23.69154967354293, 23.336535824469454, 22.202986346265707, 20.643004760596746, 18.53217655759533, 17.629398081820163, 17.52033471455836, 15.07112492135935, 14.196984003704097, 19.647528144756457, 11.151478165583091, 11.500606191394205, 23.24996828670596, 13.419907511963743, 20.48501896444152, 21.306069851638693, 30.820736013234445], \"Total\": [48539.0, 7269.0, 6717.0, 5228.0, 3714.0, 8548.0, 2870.0, 2714.0, 2580.0, 2247.0, 2169.0, 1933.0, 1783.0, 1636.0, 4418.0, 4116.0, 1502.0, 1460.0, 1476.0, 3825.0, 3741.0, 3645.0, 1332.0, 1439.0, 2992.0, 1075.0, 997.0, 2607.0, 936.0, 881.0, 8548.610035000283, 4418.097422771074, 4116.7689539075955, 3741.9717541972477, 3645.5326008193456, 3825.791211021314, 2992.4670133352743, 2607.7817791023003, 2270.5140026257786, 2216.538242292398, 2084.1796377517085, 1931.5411933231803, 1943.2779169873581, 1863.91477833238, 1890.2727761995932, 1772.0269187371791, 1721.7567723132106, 1723.7052770339264, 1686.3646576282465, 1608.0178833472228, 1566.2510414716057, 1532.2075345308401, 1506.5295587201988, 1546.3189590136155, 1511.1679059933745, 1461.4509734846963, 1363.9857535118895, 1272.990300526122, 1209.1377499434682, 1186.9567983725365, 1188.9343120605897, 2714.7849339442937, 1783.6165685010267, 1476.4728459266246, 1332.3544236019168, 1075.2148245823537, 997.0605157840316, 936.8405633574291, 881.684494093423, 777.0181474538407, 680.565945297965, 678.4297316728239, 673.1298714699756, 645.0345026741319, 636.9381009562211, 606.1634816623797, 580.0662442420813, 585.5822049602417, 559.6992443923758, 560.019468949715, 557.5022238562086, 559.2052028583458, 558.5331870389139, 535.540767215798, 477.0632619333986, 465.1036041368166, 461.0458503047828, 450.4143202916303, 441.8738428923616, 392.0938092204725, 405.4094199985782, 398.06501903964414, 1439.039345801881, 1609.8124855549454, 1099.370124253791, 774.1380650634437, 7269.643254530088, 6717.562693510056, 5228.789359044117, 2870.4268968343445, 2247.951587148672, 2169.7963483199896, 1933.5528325438913, 1636.1463765718197, 1502.3896690977701, 1460.7692191180554, 837.4332371585037, 737.2516892376862, 580.3996888291307, 391.1865036508398, 342.2638473360075, 355.62269017660554, 289.7139419645844, 295.63572912198464, 263.21157633205394, 280.2657367855968, 260.1162676395343, 252.35152820914686, 260.79033203675976, 219.02285491332182, 191.3243174389056, 191.2871169595549, 183.99425508765955, 179.04174054290812, 162.37649226787042, 161.85343917678154, 2580.810096039829, 176.46622784771543, 3714.7265266586624, 446.76896132876146, 782.7129646571527, 1099.370124253791, 1361.9447016885883, 48539.994220885485, 333.6120834158658, 259.45310301126693, 244.37682511538137, 222.08127360225734, 169.30697342753558, 143.3520937115463, 127.39664468291848, 119.60179036941508, 57.48968370244419, 55.538272912938424, 37.02838825011956, 35.84621806209944, 31.672866488715705, 31.48542125601826, 27.9854838872806, 25.897101001097074, 24.819895108547758, 24.54325746444882, 24.188084094123596, 23.05738255553323, 21.495830871932924, 19.38369777348801, 18.49483496750517, 18.384782560022536, 15.962342982954944, 15.064641717057379, 21.054330562598768, 12.006147837354916, 12.388710545423669, 25.123790471820975, 14.467678899000841, 22.305574455108435, 26.20458273022959, 126.40697631532709], \"Category\": [\"Default\", \"Default\", \"Default\", \"Default\", \"Default\", \"Default\", \"Default\", \"Default\", \"Default\", \"Default\", \"Default\", \"Default\", \"Default\", \"Default\", \"Default\", \"Default\", \"Default\", \"Default\", \"Default\", \"Default\", \"Default\", \"Default\", \"Default\", \"Default\", \"Default\", \"Default\", \"Default\", \"Default\", \"Default\", \"Default\", \"Topic1\", \"Topic1\", \"Topic1\", \"Topic1\", \"Topic1\", \"Topic1\", \"Topic1\", \"Topic1\", \"Topic1\", \"Topic1\", \"Topic1\", \"Topic1\", \"Topic1\", \"Topic1\", \"Topic1\", \"Topic1\", \"Topic1\", \"Topic1\", \"Topic1\", \"Topic1\", \"Topic1\", \"Topic1\", \"Topic1\", \"Topic1\", \"Topic1\", \"Topic1\", \"Topic1\", \"Topic1\", \"Topic1\", \"Topic1\", \"Topic1\", \"Topic2\", \"Topic2\", \"Topic2\", \"Topic2\", \"Topic2\", \"Topic2\", \"Topic2\", \"Topic2\", \"Topic2\", \"Topic2\", \"Topic2\", \"Topic2\", \"Topic2\", \"Topic2\", \"Topic2\", \"Topic2\", \"Topic2\", \"Topic2\", \"Topic2\", \"Topic2\", \"Topic2\", \"Topic2\", \"Topic2\", \"Topic2\", \"Topic2\", \"Topic2\", \"Topic2\", \"Topic2\", \"Topic2\", \"Topic2\", \"Topic2\", \"Topic2\", \"Topic2\", \"Topic2\", \"Topic2\", \"Topic3\", \"Topic3\", \"Topic3\", \"Topic3\", \"Topic3\", \"Topic3\", \"Topic3\", \"Topic3\", \"Topic3\", \"Topic3\", \"Topic3\", \"Topic3\", \"Topic3\", \"Topic3\", \"Topic3\", \"Topic3\", \"Topic3\", \"Topic3\", \"Topic3\", \"Topic3\", \"Topic3\", \"Topic3\", \"Topic3\", \"Topic3\", \"Topic3\", \"Topic3\", \"Topic3\", \"Topic3\", \"Topic3\", \"Topic3\", \"Topic3\", \"Topic3\", \"Topic3\", \"Topic3\", \"Topic3\", \"Topic3\", \"Topic3\", \"Topic4\", \"Topic4\", \"Topic4\", \"Topic4\", \"Topic4\", \"Topic4\", \"Topic4\", \"Topic4\", \"Topic4\", \"Topic4\", \"Topic4\", \"Topic4\", \"Topic4\", \"Topic4\", \"Topic4\", \"Topic4\", \"Topic4\", \"Topic4\", \"Topic4\", \"Topic4\", \"Topic4\", \"Topic4\", \"Topic4\", \"Topic4\", \"Topic4\", \"Topic4\", \"Topic4\", \"Topic4\", \"Topic4\", \"Topic4\", \"Topic4\", \"Topic4\", \"Topic4\", \"Topic4\", \"Topic4\"], \"logprob\": [30.0, 29.0, 28.0, 27.0, 26.0, 25.0, 24.0, 23.0, 22.0, 21.0, 20.0, 19.0, 18.0, 17.0, 16.0, 15.0, 14.0, 13.0, 12.0, 11.0, 10.0, 9.0, 8.0, 7.0, 6.0, 5.0, 4.0, 3.0, 2.0, 1.0, -3.1147, -3.7749, -3.8455, -3.941, -3.9671, -3.9189, -4.1646, -4.3022, -4.4408, -4.4648, -4.5264, -4.6025, -4.5965, -4.6382, -4.6241, -4.6888, -4.7175, -4.7164, -4.7383, -4.7859, -4.8123, -4.8342, -4.8512, -4.8251, -4.8481, -4.8816, -4.9506, -5.0197, -5.0712, -5.0897, -5.0881, -3.1961, -3.6164, -3.8055, -3.9082, -4.1228, -4.1983, -4.2607, -4.3214, -4.4479, -4.5806, -4.5838, -4.5916, -4.6343, -4.647, -4.6965, -4.7406, -4.7311, -4.7764, -4.7758, -4.7804, -4.7773, -4.7785, -4.8206, -4.9364, -4.9619, -4.9706, -4.994, -5.0132, -5.1329, -5.0996, -5.1179, -4.0232, -4.4507, -4.856, -4.9254, -2.137, -2.216, -2.4666, -3.0664, -3.311, -3.3464, -3.4617, -3.6288, -3.7141, -3.7422, -4.2991, -4.4267, -4.6662, -5.0615, -5.1953, -5.1571, -5.3626, -5.3425, -5.4588, -5.396, -5.4707, -5.5014, -5.4688, -5.6434, -5.779, -5.7794, -5.8183, -5.8457, -5.9439, -5.9472, -3.1805, -5.8622, -2.9198, -4.9735, -4.7076, -4.6607, -4.6917, -0.1179, -5.1006, -5.3528, -5.4128, -5.5088, -5.7814, -5.9487, -6.0675, -6.131, -6.8714, -6.9064, -7.3197, -7.3532, -7.48, -7.486, -7.6074, -7.6874, -7.7314, -7.7429, -7.758, -7.8078, -7.8807, -7.9885, -8.0385, -8.0447, -8.1953, -8.255, -7.9301, -8.4965, -8.4656, -7.7617, -8.3113, -7.8884, -7.8491, -7.4799], \"loglift\": [30.0, 29.0, 28.0, 27.0, 26.0, 25.0, 24.0, 23.0, 22.0, 21.0, 20.0, 19.0, 18.0, 17.0, 16.0, 15.0, 14.0, 13.0, 12.0, 11.0, 10.0, 9.0, 8.0, 7.0, 6.0, 5.0, 4.0, 3.0, 2.0, 1.0, 0.6667, 0.6666, 0.6666, 0.6665, 0.6665, 0.6665, 0.6665, 0.6664, 0.6664, 0.6664, 0.6664, 0.6663, 0.6663, 0.6663, 0.6663, 0.6663, 0.6663, 0.6663, 0.6663, 0.6662, 0.6662, 0.6662, 0.6662, 0.6662, 0.6662, 0.6662, 0.6661, 0.6661, 0.6661, 0.666, 0.666, 1.7323, 1.7321, 1.732, 1.732, 1.7318, 1.7318, 1.7317, 1.7316, 1.7315, 1.7314, 1.7314, 1.7314, 1.7313, 1.7313, 1.7312, 1.7312, 1.7312, 1.7311, 1.7311, 1.7311, 1.7311, 1.7311, 1.731, 1.7308, 1.7308, 1.7308, 1.7307, 1.7307, 1.7305, 1.7305, 1.7304, 1.54, 1.0003, 0.9764, 1.2578, 1.8064, 1.8064, 1.8064, 1.8063, 1.8062, 1.8062, 1.8061, 1.806, 1.806, 1.806, 1.8055, 1.8053, 1.805, 1.8043, 1.804, 1.804, 1.8034, 1.8033, 1.8032, 1.8031, 1.803, 1.8027, 1.8024, 1.8024, 1.802, 1.8018, 1.8017, 1.8016, 1.8011, 1.801, 1.7986, 1.7996, 1.6951, 1.7594, 1.4645, 1.1717, 0.9266, 1.9269, 1.9243, 1.9236, 1.9234, 1.923, 1.9218, 1.9209, 1.9202, 1.9197, 1.9119, 1.9114, 1.9035, 1.9025, 1.8994, 1.8994, 1.8958, 1.8934, 1.8919, 1.8916, 1.891, 1.8891, 1.8864, 1.882, 1.879, 1.8787, 1.8694, 1.8676, 1.8577, 1.853, 1.8525, 1.8494, 1.8517, 1.8417, 1.7199, 0.5156]}, \"token.table\": {\"Topic\": [4, 3, 3, 2, 1, 1, 1, 3, 2, 4, 3, 2, 2, 3, 2, 1, 3, 4, 2, 4, 4, 2, 4, 1, 3, 4, 4, 1, 1, 2, 3, 1, 3, 3, 1, 1, 3, 3, 3, 3, 3, 2, 3, 2, 1, 1, 1, 3, 2, 2, 4, 4, 3, 2, 1, 3, 4, 4, 4, 3, 2, 2, 2, 1, 2, 1, 2, 1, 2, 2, 1, 1, 2, 4, 1, 2, 1, 2, 1, 3, 1, 3, 2, 2, 1, 3, 2, 1, 1, 3, 2, 3, 1, 3, 2, 2, 3, 3, 1, 2, 3, 4, 2, 3, 2, 1, 3, 1, 2, 1, 3, 3, 2, 1, 4, 3, 1, 3, 3, 3, 3, 1, 2, 1, 1, 2, 4, 2, 4, 4, 4, 1, 1, 2, 1, 4, 4, 1, 2, 4, 4, 4, 1, 4, 1, 4, 1, 2, 3, 4, 4, 4, 4, 4, 4, 4, 4], \"Freq\": [0.96862380923354, 0.999714084593611, 0.9953299169909614, 0.999168419604485, 0.99943400380162, 0.9992772992611166, 0.9997931902245384, 0.9969669105662734, 0.9985271709216127, 0.9914822334911652, 0.9941815772135076, 0.9990801351711863, 0.9980805810683466, 0.9996329847634751, 0.9988701564054183, 0.9995908366451485, 0.9957085819750373, 0.9541412580987219, 0.039802911153936235, 0.9154669565405334, 0.9905680225761684, 0.999102767973222, 0.9778653071934018, 0.11448379204829703, 0.03816126401609901, 0.8013865443380792, 0.9968865374444853, 0.9997403095851385, 0.3149907624502744, 0.27020186615781117, 0.414847973856422, 0.9993266706183263, 0.9953969489148704, 0.9946442638222237, 0.9996914207230496, 0.9992271500812435, 0.9994734150282001, 0.9954837976268034, 0.9998512775800648, 0.9932712825619769, 0.9999162354657888, 0.999733986996524, 0.9997406338010802, 0.9996543155564288, 0.9997516073852474, 0.9997571698596811, 0.9998132142181879, 0.9998490359833004, 0.9997108669882173, 0.9977712349320517, 0.8985546396732512, 0.9732446940794779, 0.9930781541174007, 0.998936357656087, 0.999193906320897, 0.9975357003541386, 0.9951311806496846, 0.96696621379897, 0.9922804512946126, 0.9982490144925896, 0.9976271864440509, 0.997324509844614, 0.9992236518868046, 0.9992118988429267, 0.9990991536271645, 0.518693951930776, 0.4808013398735577, 0.9993669950081003, 0.9983214658599118, 0.9996797462764526, 0.9993423910310578, 0.9995604650288705, 0.9978447931954397, 0.9982536226932416, 0.3771936986150777, 0.6226279545632447, 0.9997736183854474, 0.9983962056760637, 0.9992220675006616, 0.9963073887416256, 0.9992012509882002, 0.9992993435133709, 0.9981618578004405, 0.9989902408016305, 0.9999286392761179, 0.994596271023865, 0.9980224154327811, 0.9991907695514884, 0.10525673887269928, 0.8945476810076207, 0.998179583021235, 0.9915228353030336, 0.005666806687016437, 0.9916911702278765, 0.9990057673281222, 0.9977315698555981, 0.9978496201258464, 0.9994826606596441, 0.04483184246218682, 0.04483184246218682, 0.04483184246218682, 0.8966368492437364, 0.46935967115737337, 0.5303036594665672, 0.9989901073374673, 0.28873930828396777, 0.7103498026809119, 0.9991470330193346, 0.9993665789502411, 0.9997198126941061, 0.9999115149798188, 0.9995766869917875, 0.9972103379478316, 0.04749616697746806, 0.9499233395493611, 0.9947270865474204, 0.007749504711985342, 0.9919366031341238, 0.9975884052730036, 0.9969694734057536, 0.9983022226249757, 0.9997002129899959, 0.9987506783341562, 0.9996484909857005, 0.9992141600666142, 0.7515407991645875, 0.24523962920107592, 0.9990453798426185, 0.984582665987819, 0.9787557438492208, 0.9802051302093241, 0.9995092166535648, 0.9998439370147797, 0.9986896735202685, 0.9998539031527998, 0.9763931006436031, 0.9293284409245587, 0.17511682410572113, 0.8248558341805198, 0.9790705950007133, 0.9647858907407171, 0.9769336261116415, 0.9994204835568125, 0.9722270317796984, 0.9990590402594565, 0.9653590183295393, 0.0022382933609036808, 0.04252757385716993, 0.953512971744968, 0.9999795174906498, 0.9397116711511235, 0.9903080725289708, 0.9508814303150105, 0.9984580161592514, 0.9981652840340833, 0.9949683832695453, 0.9161972806777814], \"Term\": [\"actu\", \"always\", \"amazing\", \"area\", \"ask\", \"back\", \"bad\", \"bathroom\", \"big\", \"cani\", \"cheap\", \"cheese\", \"chicken\", \"clean\", \"cold\", \"come\", \"cool\", \"couldni\", \"deteriorate\", \"deteriorate\", \"didni\", \"dirty\", \"doesni\", \"doi\", \"doi\", \"doi\", \"doni\", \"drive\", \"eat\", \"eat\", \"eat\", \"employee\", \"enjoy\", \"enough\", \"even\", \"ever\", \"excellent\", \"far\", \"fast\", \"fine\", \"food\", \"fresh\", \"friendly\", \"fry\", \"get\", \"give\", \"go\", \"good\", \"great\", \"hard\", \"hav\", \"haveni\", \"helpful\", \"hot\", \"hour\", \"ice_cream\", \"ii\", \"isni\", \"iti\", \"kind\", \"large\", \"late\", \"like\", \"line\", \"little\", \"location\", \"location\", \"long\", \"lot\", \"love\", \"make\", \"manager\", \"mcdonald\", \"mcdonaldi\", \"meal\", \"meal\", \"minute\", \"much\", \"need\", \"neutral\", \"never\", \"nice\", \"nugget\", \"old\", \"order\", \"overall\", \"parking\", \"people\", \"place\", \"place\", \"play\", \"polite\", \"prepare\", \"prepare\", \"pretty\", \"price\", \"quality\", \"quick\", \"re\", \"re\", \"re\", \"re\", \"really\", \"really\", \"recommend\", \"restaurant\", \"restaurant\", \"rude\", \"sandwich\", \"say\", \"service\", \"slow\", \"small\", \"soo\", \"soo\", \"spot\", \"staff\", \"staff\", \"super\", \"suppose\", \"table\", \"take\", \"taste\", \"tell\", \"terrible\", \"th\", \"th\", \"thank\", \"thati\", \"therei\", \"theyi\", \"thru\", \"time\", \"visit\", \"wait\", \"wasni\", \"wei\", \"well\", \"well\", \"wendyi\", \"wereni\", \"woni\", \"work\", \"wouldni\", \"wrong\", \"youi\", \"zoo\", \"zoo\", \"zoo\", \"\\u00bdi\", \"\\u00bdll\", \"\\u00bdm\", \"\\u00bdre\", \"\\u00bds\", \"\\u00bdt\", \"\\u00bdve\", \"\\u00bdwei\"]}, \"R\": 30, \"lambda.step\": 0.01, \"plot.opts\": {\"xlab\": \"PC1\", \"ylab\": \"PC2\"}, \"topic.order\": [2, 3, 1, 4]};\n",
       "\n",
       "function LDAvis_load_lib(url, callback){\n",
       "  var s = document.createElement('script');\n",
       "  s.src = url;\n",
       "  s.async = true;\n",
       "  s.onreadystatechange = s.onload = callback;\n",
       "  s.onerror = function(){console.warn(\"failed to load library \" + url);};\n",
       "  document.getElementsByTagName(\"head\")[0].appendChild(s);\n",
       "}\n",
       "\n",
       "if(typeof(LDAvis) !== \"undefined\"){\n",
       "   // already loaded: just create the visualization\n",
       "   !function(LDAvis){\n",
       "       new LDAvis(\"#\" + \"ldavis_el1789623202478594083335888846\", ldavis_el1789623202478594083335888846_data);\n",
       "   }(LDAvis);\n",
       "}else if(typeof define === \"function\" && define.amd){\n",
       "   // require.js is available: use it to load d3/LDAvis\n",
       "   require.config({paths: {d3: \"https://d3js.org/d3.v5\"}});\n",
       "   require([\"d3\"], function(d3){\n",
       "      window.d3 = d3;\n",
       "      LDAvis_load_lib(\"https://cdn.jsdelivr.net/gh/bmabey/pyLDAvis@3.4.0/pyLDAvis/js/ldavis.v3.0.0.js\", function(){\n",
       "        new LDAvis(\"#\" + \"ldavis_el1789623202478594083335888846\", ldavis_el1789623202478594083335888846_data);\n",
       "      });\n",
       "    });\n",
       "}else{\n",
       "    // require.js not available: dynamically load d3 & LDAvis\n",
       "    LDAvis_load_lib(\"https://d3js.org/d3.v5.js\", function(){\n",
       "         LDAvis_load_lib(\"https://cdn.jsdelivr.net/gh/bmabey/pyLDAvis@3.4.0/pyLDAvis/js/ldavis.v3.0.0.js\", function(){\n",
       "                 new LDAvis(\"#\" + \"ldavis_el1789623202478594083335888846\", ldavis_el1789623202478594083335888846_data);\n",
       "            })\n",
       "         });\n",
       "}\n",
       "</script>"
      ],
      "text/plain": [
       "PreparedData(topic_coordinates=              x         y  topics  cluster       Freq\n",
       "topic                                                \n",
       "1      0.251074 -0.292911       1        1  51.335920\n",
       "2      0.287719  0.216647       2        1  17.682118\n",
       "0     -0.217547  0.318767       3        1  16.421745\n",
       "3     -0.321247 -0.242503       4        1  14.560218, topic_info=             Term          Freq         Total Category  logprob  loglift\n",
       "63             ½i  48539.000000  48539.000000  Default  30.0000  30.0000\n",
       "62        service   7269.000000   7269.000000  Default  29.0000  29.0000\n",
       "5            food   6717.000000   6717.000000  Default  28.0000  28.0000\n",
       "160          good   5228.000000   5228.000000  Default  27.0000  27.0000\n",
       "29          place   3714.000000   3714.000000  Default  26.0000  26.0000\n",
       "...           ...           ...           ...      ...      ...      ...\n",
       "2921  deteriorate     23.249968     25.123790   Topic4  -7.7617   1.8494\n",
       "5750          hav     13.419908     14.467679   Topic4  -8.3113   1.8517\n",
       "9375           re     20.485019     22.305574   Topic4  -7.8884   1.8417\n",
       "9485          doi     21.306070     26.204583   Topic4  -7.8491   1.7199\n",
       "1984           th     30.820736    126.406976   Topic4  -7.4799   0.5156\n",
       "\n",
       "[168 rows x 6 columns], token_table=      Topic      Freq     Term\n",
       "term                          \n",
       "9311      4  0.968624     actu\n",
       "19        3  0.999714   always\n",
       "1088      3  0.995330  amazing\n",
       "822       2  0.999168     area\n",
       "95        1  0.999434      ask\n",
       "...     ...       ...      ...\n",
       "3741      4  0.950881      ½re\n",
       "382       4  0.998458       ½s\n",
       "423       4  0.998165       ½t\n",
       "764       4  0.994968      ½ve\n",
       "7355      4  0.916197     ½wei\n",
       "\n",
       "[157 rows x 3 columns], R=30, lambda_step=0.01, plot_opts={'xlab': 'PC1', 'ylab': 'PC2'}, topic_order=[2, 3, 1, 4])"
      ]
     },
     "execution_count": 35,
     "metadata": {},
     "output_type": "execute_result"
    }
   ],
   "source": [
    "pyLDAvis.enable_notebook()\n",
    "vis = pyLDAvis.gensim.prepare(lda_model, corpus, id2word, mds=\"mmds\", R=30)\n",
    "vis"
   ]
  },
  {
   "cell_type": "code",
   "execution_count": null,
   "metadata": {},
   "outputs": [],
   "source": []
  }
 ],
 "metadata": {
  "kernelspec": {
   "display_name": "Python 3",
   "language": "python",
   "name": "python3"
  },
  "language_info": {
   "codemirror_mode": {
    "name": "ipython",
    "version": 3
   },
   "file_extension": ".py",
   "mimetype": "text/x-python",
   "name": "python",
   "nbconvert_exporter": "python",
   "pygments_lexer": "ipython3",
   "version": "3.12.5"
  }
 },
 "nbformat": 4,
 "nbformat_minor": 2
}
