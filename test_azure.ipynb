{
 "cells": [
  {
   "cell_type": "markdown",
   "metadata": {},
   "source": [
    "New \"Get Embedding\""
   ]
  },
  {
   "cell_type": "code",
   "execution_count": 2,
   "metadata": {},
   "outputs": [
    {
     "data": {
      "text/plain": [
       "[-0.008047218434512615,\n",
       " -0.003521484090015292,\n",
       " -0.00033344258554279804,\n",
       " -0.005652213003486395,\n",
       " -0.024472001940011978]"
      ]
     },
     "execution_count": 2,
     "metadata": {},
     "output_type": "execute_result"
    }
   ],
   "source": [
    "import os\n",
    "from langchain_openai import AzureOpenAIEmbeddings\n",
    "\n",
    "os.environ[\"AZURE_OPENAI_API_KEY\"] = \"237cb3c25a5d496287d689330c5bd2f9\"\n",
    "os.environ[\"AZURE_OPENAI_ENDPOINT\"] = \"https://pranavopenairesource.openai.azure.com/\"\n",
    "\n",
    "def get_embedding_function():\n",
    "    embeddings = AzureOpenAIEmbeddings(\n",
    "        azure_deployment=\"Pranav-Embedding-Model-4Summarizer\",\n",
    "        openai_api_version=\"2024-02-01\",\n",
    "    )\n",
    "    return embeddings\n",
    "\n",
    "text = \"This is a test\"\n",
    "query_result = get_embedding_function().embed_query(text)\n",
    "doc_result = get_embedding_function().embed_documents([text])\n",
    "doc_result[0][:5]"
   ]
  },
  {
   "cell_type": "code",
   "execution_count": 3,
   "metadata": {},
   "outputs": [
    {
     "name": "stdout",
     "output_type": "stream",
     "text": [
      "The 5 Great Lakes are a group of large, interconnected freshwater lakes located in North America. They are:\n",
      "\n",
      "1. Lake Superior\n",
      "2. Lake Michigan\n",
      "3. Lake Huron\n",
      "4. Lake Erie\n",
      "5. Lake Ontario\n",
      "\n",
      "These lakes represent the largest group of freshwater lakes on the planet, and they cover an area of about 94,000 square miles (244,000 square kilometers).\n"
     ]
    }
   ],
   "source": [
    "import os\n",
    "from openai import AzureOpenAI\n",
    "\n",
    "client = AzureOpenAI(\n",
    "  azure_endpoint = os.getenv(\"https://pranavopenairesource.openai.azure.com/\"), \n",
    "  api_key=os.getenv(\"237cb3c25a5d496287d689330c5bd2f9\"),  \n",
    "  api_version=\"2024-02-01\"\n",
    ")\n",
    "\n",
    "response = client.chat.completions.create(\n",
    "    model=\"Pranav-LLM-Model\", # model = \"deployment_name\".\n",
    "    messages=[\n",
    "        {\"role\": \"system\", \"content\": \"Assistant is a large language model trained by OpenAI.\"},\n",
    "        {\"role\": \"user\", \"content\": \"What are the 5 great lakes?\"}\n",
    "    ]\n",
    ")\n",
    "\n",
    "\n",
    "print(response.choices[0].message.content)"
   ]
  },
  {
   "cell_type": "code",
   "execution_count": null,
   "metadata": {},
   "outputs": [],
   "source": []
  }
 ],
 "metadata": {
  "kernelspec": {
   "display_name": "Python 3",
   "language": "python",
   "name": "python3"
  },
  "language_info": {
   "codemirror_mode": {
    "name": "ipython",
    "version": 3
   },
   "file_extension": ".py",
   "mimetype": "text/x-python",
   "name": "python",
   "nbconvert_exporter": "python",
   "pygments_lexer": "ipython3",
   "version": "3.12.5"
  }
 },
 "nbformat": 4,
 "nbformat_minor": 2
}
