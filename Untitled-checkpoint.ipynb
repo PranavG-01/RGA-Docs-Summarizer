{
 "cells": [
  {
   "cell_type": "code",
   "execution_count": null,
   "id": "cfe66d61-ca9c-4c46-aab2-d808af265d68",
   "metadata": {},
   "outputs": [],
   "source": [
    "#This is the doc summarizer code\n"
   ]
  },
  {
   "cell_type": "code",
   "execution_count": null,
   "id": "ba39987c-b671-4071-940c-11466c04abc6",
   "metadata": {},
   "outputs": [],
   "source": []
  }
 ],
 "metadata": {
  "kernelspec": {
   "display_name": "Python 3 (ipykernel)",
   "language": "python",
   "name": "python3"
  },
  "language_info": {
   "codemirror_mode": {
    "name": "ipython",
    "version": 3
   },
   "file_extension": ".py",
   "mimetype": "text/x-python",
   "name": "python",
   "nbconvert_exporter": "python",
   "pygments_lexer": "ipython3",
   "version": "3.12.5"
  }
 },
 "nbformat": 4,
 "nbformat_minor": 5
}
